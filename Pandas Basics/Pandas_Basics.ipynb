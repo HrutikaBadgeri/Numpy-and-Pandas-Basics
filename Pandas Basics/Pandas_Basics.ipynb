{
  "nbformat": 4,
  "nbformat_minor": 0,
  "metadata": {
    "colab": {
      "name": "Pandas_Basics.ipynb",
      "provenance": [],
      "collapsed_sections": []
    },
    "kernelspec": {
      "name": "python3",
      "display_name": "Python 3"
    }
  },
  "cells": [
    {
      "cell_type": "code",
      "metadata": {
        "id": "kCDXwhRdzFS8"
      },
      "source": [
        "import pandas"
      ],
      "execution_count": null,
      "outputs": []
    },
    {
      "cell_type": "code",
      "metadata": {
        "id": "NJmqxulvzhU7"
      },
      "source": [
        "data = pandas.read_csv(\"/content/iris.csv\")"
      ],
      "execution_count": null,
      "outputs": []
    },
    {
      "cell_type": "code",
      "metadata": {
        "id": "LZRUcxdLztCj"
      },
      "source": [
        "print(data.tail())"
      ],
      "execution_count": null,
      "outputs": []
    },
    {
      "cell_type": "code",
      "metadata": {
        "id": "g98T9YRf0jds"
      },
      "source": [
        "print(data.head())"
      ],
      "execution_count": null,
      "outputs": []
    },
    {
      "cell_type": "code",
      "metadata": {
        "id": "zMztDU7q0X1L"
      },
      "source": [
        "print(data.shape) "
      ],
      "execution_count": null,
      "outputs": []
    },
    {
      "cell_type": "code",
      "metadata": {
        "id": "OjyhkmnI0gD7"
      },
      "source": [
        "print(data.columns)"
      ],
      "execution_count": null,
      "outputs": []
    },
    {
      "cell_type": "code",
      "metadata": {
        "id": "ho48qJcV7Yn6"
      },
      "source": [
        "print(data['variety'])"
      ],
      "execution_count": null,
      "outputs": []
    },
    {
      "cell_type": "code",
      "metadata": {
        "id": "bBIi7EgU7sUy"
      },
      "source": [
        "print(data['variety'].value_counts())"
      ],
      "execution_count": null,
      "outputs": []
    },
    {
      "cell_type": "code",
      "metadata": {
        "id": "-zhUAfsIvhGE"
      },
      "source": [
        "from sklearn.model_selection import train_test_split"
      ],
      "execution_count": null,
      "outputs": []
    },
    {
      "cell_type": "code",
      "metadata": {
        "id": "AMm_zpACwAcf"
      },
      "source": [
        "#1. Only Features - 4\n",
        "#2. Only Target - 1\n",
        "#3. Split percentage"
      ],
      "execution_count": null,
      "outputs": []
    },
    {
      "cell_type": "code",
      "metadata": {
        "id": "d52LFkAcvxsz"
      },
      "source": [
        "#features = data.drop('variety', axis=1)\n",
        "l1 = ['sepal.length', 'sepal.width', 'petal.length', 'petal.width']\n",
        "features = data[l1]\n",
        "\n",
        "t1 = ['variety']\n",
        "target = data[t1]"
      ],
      "execution_count": null,
      "outputs": []
    },
    {
      "cell_type": "code",
      "metadata": {
        "id": "eWdG_wCXwswu"
      },
      "source": [
        "x_train, x_test, y_train, y_test = train_test_split(features, target, train_size = 0.8)"
      ],
      "execution_count": null,
      "outputs": []
    },
    {
      "cell_type": "code",
      "metadata": {
        "id": "wIVcPlg1w5Rb"
      },
      "source": [
        "print(x_train.shape)\n",
        "print(y_train.shape)"
      ],
      "execution_count": null,
      "outputs": []
    },
    {
      "cell_type": "code",
      "metadata": {
        "id": "NDuB3sFXxCpb"
      },
      "source": [
        "print(x_test.shape)\n",
        "print(y_test.shape)"
      ],
      "execution_count": null,
      "outputs": []
    },
    {
      "cell_type": "code",
      "metadata": {
        "id": "ZmiR2cco1F47"
      },
      "source": [
        "# TESTING PANDAS ON SAMPLE DATA"
      ],
      "execution_count": null,
      "outputs": []
    },
    {
      "cell_type": "code",
      "metadata": {
        "id": "tNZADNpQEG2Y"
      },
      "source": [
        "#Importing all the libraries\n",
        "import pandas as pd"
      ],
      "execution_count": null,
      "outputs": []
    },
    {
      "cell_type": "code",
      "metadata": {
        "id": "ydvhTw3CutJu"
      },
      "source": [
        "#Importing the data\n",
        "data = pd.read_csv(\"/content/trial_data.csv\")\n",
        "data.head()\n",
        "print(data.columns)"
      ],
      "execution_count": null,
      "outputs": []
    },
    {
      "cell_type": "code",
      "metadata": {
        "id": "7n3M0MPZwJCz"
      },
      "source": [
        "#Seperate target and features\n",
        "features = data[['X']]\n",
        "target = data[['Y']]"
      ],
      "execution_count": null,
      "outputs": []
    },
    {
      "cell_type": "code",
      "metadata": {
        "id": "retv2quvwnWS"
      },
      "source": [
        "features.head()"
      ],
      "execution_count": null,
      "outputs": []
    },
    {
      "cell_type": "code",
      "metadata": {
        "id": "gGhRkZuHwwJr"
      },
      "source": [
        "# Split the data in train and test set\n",
        "from sklearn.model_selection import train_test_split\n",
        "\n",
        "x_train, x_test, y_train, y_test = train_test_split(features, target, train_size=0.8)"
      ],
      "execution_count": null,
      "outputs": []
    },
    {
      "cell_type": "code",
      "metadata": {
        "id": "0TV0S5nywzzy"
      },
      "source": [
        "#Applying Linear Regression\n",
        "#1 Import required library\n",
        "from sklearn.linear_model import LinearRegression\n",
        "\n",
        "#2Creating the object of your algorithm\n",
        "lr = LinearRegression()\n",
        "\n",
        "#3with the help of object, train the algorithm\n",
        "lr.fit(x_train, y_train)"
      ],
      "execution_count": null,
      "outputs": []
    },
    {
      "cell_type": "code",
      "metadata": {
        "id": "xfJaRhNexV9s"
      },
      "source": [
        "#Print coefficients of the trained model\n",
        "print(lr.coef_)\n",
        "print(lr.intercept_)"
      ],
      "execution_count": null,
      "outputs": []
    },
    {
      "cell_type": "code",
      "metadata": {
        "id": "9pb_7oZx6lFo"
      },
      "source": [
        "#Implementing Logistic Regression on IRIS DATA SET\n",
        "import pandas as pd\n",
        "data = pd.read_csv(\"/content/iris.csv\")\n",
        "print(data.head())"
      ],
      "execution_count": null,
      "outputs": []
    },
    {
      "cell_type": "code",
      "metadata": {
        "id": "OiNhdfZ36yjL"
      },
      "source": [
        "print(data.columns)"
      ],
      "execution_count": null,
      "outputs": []
    },
    {
      "cell_type": "code",
      "metadata": {
        "id": "ZLD59jgR7HMi"
      },
      "source": [
        "target_column = ['variety']\n",
        "features = data.drop('variety',axis=1)\n",
        "target = data[target_column]"
      ],
      "execution_count": null,
      "outputs": []
    },
    {
      "cell_type": "code",
      "metadata": {
        "id": "_0lN3KsT7csC"
      },
      "source": [
        "print(features.head())"
      ],
      "execution_count": null,
      "outputs": []
    },
    {
      "cell_type": "code",
      "metadata": {
        "id": "TSX9daTw7isG"
      },
      "source": [
        "print(target.head())"
      ],
      "execution_count": null,
      "outputs": []
    },
    {
      "cell_type": "code",
      "metadata": {
        "id": "Gsg_pguF7lLG"
      },
      "source": [
        "#Split the data into train and test\n",
        "from sklearn.model_selection import train_test_split\n",
        "x_train, x_test, y_train, y_test = train_test_split(features, target, train_size=0.75)"
      ],
      "execution_count": null,
      "outputs": []
    },
    {
      "cell_type": "code",
      "metadata": {
        "id": "NYKl6S4z8Co5"
      },
      "source": [
        "print(x_train.shape)\n",
        "print(y_train.shape)"
      ],
      "execution_count": null,
      "outputs": []
    },
    {
      "cell_type": "code",
      "metadata": {
        "id": "T8-5kIG-8HxF"
      },
      "source": [
        "print(x_test.shape)\n",
        "print(y_test.shape)"
      ],
      "execution_count": null,
      "outputs": []
    },
    {
      "cell_type": "code",
      "metadata": {
        "id": "ccksN8Sv-lJu"
      },
      "source": [
        "#Building or fitting model\n",
        "from sklearn.linear_model import LogisticRegression\n",
        "\n",
        "#make an object of the class\n",
        "model = LogisticRegression()\n",
        "\n",
        "#Train the model by using training data\n",
        "model.fit(x_train, y_train)"
      ],
      "execution_count": null,
      "outputs": []
    },
    {
      "cell_type": "code",
      "metadata": {
        "id": "N1X5ps0zCc5I"
      },
      "source": [
        "print(x_train.shape)\n",
        "print(y_train.shape)"
      ],
      "execution_count": null,
      "outputs": []
    },
    {
      "cell_type": "code",
      "metadata": {
        "id": "JQDK_vDV_VMT"
      },
      "source": [
        "#Test and compute accuracy of the model\n",
        "predictions = model.predict(x_test)# No need of y_test; bcs model has to be predicted on the basis of given data\n",
        "print(predictions)"
      ],
      "execution_count": null,
      "outputs": []
    },
    {
      "cell_type": "code",
      "metadata": {
        "id": "TeiLlDhiE9rn"
      },
      "source": [
        "#Predicting the accuracy \n",
        "from sklearn.metrics import accuracy_score\n",
        "acc = accuracy_score(y_test, predictions)\n",
        "print(acc)"
      ],
      "execution_count": null,
      "outputs": []
    },
    {
      "cell_type": "code",
      "metadata": {
        "id": "ed1CEvn3FcKa"
      },
      "source": [
        "#Build Naive Bayes\n",
        "from sklearn.naive_bayes import GaussianNB\n",
        "\n",
        "model = GaussianNB()\n",
        "model.fit(x_train, y_train)"
      ],
      "execution_count": null,
      "outputs": []
    },
    {
      "cell_type": "code",
      "metadata": {
        "id": "6Xg0d3G0F-BX"
      },
      "source": [
        "predictions = model.predict(x_test)\n",
        "acc = accuracy_score(y_test, predictions)\n",
        "print(acc)"
      ],
      "execution_count": null,
      "outputs": []
    },
    {
      "cell_type": "code",
      "metadata": {
        "id": "trWgk8TuGH4V"
      },
      "source": [
        "#Building KNN algorithm\n",
        "from sklearn.neighbors import KNeighborsClassifier\n",
        "model = KNeighborsClassifier(n_neighbors = 3)\n",
        "model.fit(x_train, y_train)"
      ],
      "execution_count": null,
      "outputs": []
    },
    {
      "cell_type": "code",
      "metadata": {
        "id": "Qb8OMn2YGajM"
      },
      "source": [
        "predictions = model.predict(x_test)\n",
        "accuracy_score(y_test,predictions)"
      ],
      "execution_count": null,
      "outputs": []
    },
    {
      "cell_type": "code",
      "metadata": {
        "id": "6rJYNDkdRzJ7"
      },
      "source": [
        "#Implementing Logistic Regression on Diabetes Data\n",
        "import pandas as pd\n",
        "data = pd.read_csv(\"/content/diabetes.csv\")\n",
        "print(data.head())"
      ],
      "execution_count": null,
      "outputs": []
    },
    {
      "cell_type": "code",
      "metadata": {
        "id": "C6jRILlhUjt3",
        "colab": {
          "base_uri": "https://localhost:8080/"
        },
        "outputId": "cf2eef4d-6b73-49fd-c21c-c94da7e37960"
      },
      "source": [
        "print(data.shape)"
      ],
      "execution_count": null,
      "outputs": [
        {
          "output_type": "stream",
          "text": [
            "(768, 9)\n"
          ],
          "name": "stdout"
        }
      ]
    },
    {
      "cell_type": "code",
      "metadata": {
        "id": "FpNglvfJU637"
      },
      "source": [
        "target_column = ['Outcome']\n",
        "features = data.drop('Outcome', axis=1)\n",
        "target = data[target_column]"
      ],
      "execution_count": null,
      "outputs": []
    },
    {
      "cell_type": "code",
      "metadata": {
        "id": "3wM-c3R7VNfN"
      },
      "source": [
        "print(features.head())"
      ],
      "execution_count": null,
      "outputs": []
    },
    {
      "cell_type": "code",
      "metadata": {
        "id": "-d5jLwdHWO3U"
      },
      "source": [
        "print(target.head())"
      ],
      "execution_count": null,
      "outputs": []
    },
    {
      "cell_type": "code",
      "metadata": {
        "id": "u-TKaL_oXDFO"
      },
      "source": [
        "#Splitting the data into train and test\n",
        "from sklearn.model_selection import train_test_split\n",
        "x_train, x_test, y_train, y_test = train_test_split(features, target, train_size=0.7)"
      ],
      "execution_count": null,
      "outputs": []
    },
    {
      "cell_type": "code",
      "metadata": {
        "id": "_wHy37d5XZjW"
      },
      "source": [
        "print(x_train.shape)\n",
        "print(y_train.shape)\n",
        "print(x_test.shape)\n",
        "print(y_test.shape)"
      ],
      "execution_count": null,
      "outputs": []
    },
    {
      "cell_type": "code",
      "metadata": {
        "id": "GOAblZt0XwPQ"
      },
      "source": [
        "#Building fitting model \n",
        "from sklearn.linear_model import LogisticRegression\n",
        "model = LogisticRegression()\n",
        "model.fit(x_train,y_train)"
      ],
      "execution_count": null,
      "outputs": []
    },
    {
      "cell_type": "code",
      "metadata": {
        "id": "AqEjm892YZJj",
        "colab": {
          "base_uri": "https://localhost:8080/"
        },
        "outputId": "6300814b-f768-4668-b73b-68f90af8685f"
      },
      "source": [
        "print(x_train.shape)\n",
        "print(y_train.shape)"
      ],
      "execution_count": null,
      "outputs": [
        {
          "output_type": "stream",
          "text": [
            "(537, 8)\n",
            "(537, 1)\n"
          ],
          "name": "stdout"
        }
      ]
    },
    {
      "cell_type": "code",
      "metadata": {
        "id": "xY-sSiPHYn2y",
        "colab": {
          "base_uri": "https://localhost:8080/"
        },
        "outputId": "fb6d09fd-a960-4f06-f056-0178c8fcc3b2"
      },
      "source": [
        "predictions = model.predict(x_test)\n",
        "print(predictions)"
      ],
      "execution_count": null,
      "outputs": [
        {
          "output_type": "stream",
          "text": [
            "[0 0 0 0 1 0 0 0 0 0 0 0 1 0 1 1 0 0 0 1 0 1 0 1 1 0 0 0 1 0 0 0 0 0 1 0 0\n",
            " 0 0 1 1 1 1 0 0 0 0 0 1 0 0 1 0 0 0 1 0 0 0 1 0 0 1 0 0 0 1 1 0 1 0 0 0 0\n",
            " 0 0 1 0 0 0 0 1 0 0 0 0 0 0 1 0 0 0 0 0 0 0 0 0 1 1 0 0 0 0 1 1 0 1 0 0 0\n",
            " 1 0 0 0 1 1 1 0 0 0 0 0 0 1 1 0 0 0 0 1 0 0 0 0 0 0 0 0 0 0 0 0 1 1 0 1 1\n",
            " 1 0 0 1 0 1 0 0 0 0 0 1 1 1 0 1 1 0 0 0 1 0 0 0 0 1 1 1 0 0 0 0 0 1 1 0 0\n",
            " 0 1 0 0 0 0 0 0 1 1 0 1 0 0 0 1 0 1 0 1 0 1 0 0 0 0 0 0 0 1 0 0 0 0 0 0 0\n",
            " 0 0 1 0 0 0 1 0 1]\n"
          ],
          "name": "stdout"
        }
      ]
    },
    {
      "cell_type": "code",
      "metadata": {
        "id": "UDVGLdTiYtv3",
        "colab": {
          "base_uri": "https://localhost:8080/"
        },
        "outputId": "243a7a7d-a3cd-465b-c40d-97cce50c2f90"
      },
      "source": [
        "from sklearn.metrics import accuracy_score\n",
        "acc = accuracy_score(y_test, predictions)\n",
        "print(acc)"
      ],
      "execution_count": null,
      "outputs": [
        {
          "output_type": "stream",
          "text": [
            "0.7705627705627706\n"
          ],
          "name": "stdout"
        }
      ]
    },
    {
      "cell_type": "code",
      "metadata": {
        "id": "v-EpiCT5lO7N",
        "colab": {
          "base_uri": "https://localhost:8080/"
        },
        "outputId": "8c5faa9c-761e-413b-f597-26832c4d5d61"
      },
      "source": [
        "#Build NaiveBayes\n",
        "from sklearn.naive_bayes import GaussianNB\n",
        "model = GaussianNB()\n",
        "model.fit(x_train,y_train)"
      ],
      "execution_count": null,
      "outputs": [
        {
          "output_type": "stream",
          "text": [
            "/usr/local/lib/python3.7/dist-packages/sklearn/naive_bayes.py:206: DataConversionWarning: A column-vector y was passed when a 1d array was expected. Please change the shape of y to (n_samples, ), for example using ravel().\n",
            "  y = column_or_1d(y, warn=True)\n"
          ],
          "name": "stderr"
        },
        {
          "output_type": "execute_result",
          "data": {
            "text/plain": [
              "GaussianNB(priors=None, var_smoothing=1e-09)"
            ]
          },
          "metadata": {
            "tags": []
          },
          "execution_count": 11
        }
      ]
    },
    {
      "cell_type": "code",
      "metadata": {
        "id": "5Uro_oPHlfYu",
        "colab": {
          "base_uri": "https://localhost:8080/"
        },
        "outputId": "e682d44d-dcdc-4948-b65d-9a57407469cc"
      },
      "source": [
        "predictions = model.predict(x_test)\n",
        "accuracy = accuracy_score(y_test,predictions)\n",
        "print(accuracy)"
      ],
      "execution_count": null,
      "outputs": [
        {
          "output_type": "stream",
          "text": [
            "0.7316017316017316\n"
          ],
          "name": "stdout"
        }
      ]
    },
    {
      "cell_type": "code",
      "metadata": {
        "id": "wB3f6Sjpl8C7",
        "colab": {
          "base_uri": "https://localhost:8080/"
        },
        "outputId": "12ed6461-a9d9-48e6-dc52-c70c7f2f8495"
      },
      "source": [
        "#Build KNN \n",
        "from sklearn.neighbors import KNeighborsClassifier\n",
        "model = KNeighborsClassifier()\n",
        "model.fit(x_train,y_train)"
      ],
      "execution_count": null,
      "outputs": [
        {
          "output_type": "stream",
          "text": [
            "/usr/local/lib/python3.7/dist-packages/ipykernel_launcher.py:4: DataConversionWarning: A column-vector y was passed when a 1d array was expected. Please change the shape of y to (n_samples, ), for example using ravel().\n",
            "  after removing the cwd from sys.path.\n"
          ],
          "name": "stderr"
        },
        {
          "output_type": "execute_result",
          "data": {
            "text/plain": [
              "KNeighborsClassifier(algorithm='auto', leaf_size=30, metric='minkowski',\n",
              "                     metric_params=None, n_jobs=None, n_neighbors=5, p=2,\n",
              "                     weights='uniform')"
            ]
          },
          "metadata": {
            "tags": []
          },
          "execution_count": 13
        }
      ]
    },
    {
      "cell_type": "code",
      "metadata": {
        "id": "d-STKqA8mrAE",
        "colab": {
          "base_uri": "https://localhost:8080/"
        },
        "outputId": "e82ae0bd-f6f4-4eb8-9831-47e97716858f"
      },
      "source": [
        "predictions = model.predict(x_test)\n",
        "accuracy = accuracy_score(y_test,predictions)\n",
        "print(accuracy)"
      ],
      "execution_count": null,
      "outputs": [
        {
          "output_type": "stream",
          "text": [
            "0.696969696969697\n"
          ],
          "name": "stdout"
        }
      ]
    }
  ]
}