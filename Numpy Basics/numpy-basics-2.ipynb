{
  "nbformat": 4,
  "nbformat_minor": 0,
  "metadata": {
    "colab": {
      "name": "numpy2.ipynb",
      "provenance": []
    },
    "kernelspec": {
      "name": "python3",
      "display_name": "Python 3"
    },
    "language_info": {
      "name": "python"
    }
  },
  "cells": [
    {
      "cell_type": "markdown",
      "metadata": {
        "id": "aRDrqGu3M2k9"
      },
      "source": [
        "# **Array Manipulation**"
      ]
    },
    {
      "cell_type": "markdown",
      "metadata": {
        "id": "DmNCgMMNNBf6"
      },
      "source": [
        "# chaning shape"
      ]
    },
    {
      "cell_type": "code",
      "metadata": {
        "id": "YN18PnBxNGLE"
      },
      "source": [
        "import numpy as np"
      ],
      "execution_count": null,
      "outputs": []
    },
    {
      "cell_type": "code",
      "metadata": {
        "colab": {
          "base_uri": "https://localhost:8080/"
        },
        "id": "nhwy5X9PNRHj",
        "outputId": "03ce3472-a7b9-4072-c507-86b58d457f8d"
      },
      "source": [
        "a = np.arange(8)\n",
        "print('the original array: ')\n",
        "print(a)\n",
        "b = a.reshape(2,4)\n",
        "print('the modified array: ')\n",
        "print(b)"
      ],
      "execution_count": null,
      "outputs": [
        {
          "output_type": "stream",
          "text": [
            "the original array: \n",
            "[0 1 2 3 4 5 6 7]\n",
            "the modified array: \n",
            "[[0 1 2 3]\n",
            " [4 5 6 7]]\n"
          ],
          "name": "stdout"
        }
      ]
    },
    {
      "cell_type": "code",
      "metadata": {
        "colab": {
          "base_uri": "https://localhost:8080/"
        },
        "id": "r4uScYnINbNn",
        "outputId": "79e1c2b5-78f4-428a-b5f6-59a16252a2fa"
      },
      "source": [
        "print(b.flatten())"
      ],
      "execution_count": null,
      "outputs": [
        {
          "output_type": "stream",
          "text": [
            "[0 1 2 3 4 5 6 7]\n"
          ],
          "name": "stdout"
        }
      ]
    },
    {
      "cell_type": "code",
      "metadata": {
        "colab": {
          "base_uri": "https://localhost:8080/"
        },
        "id": "Nucnl_2rN_mC",
        "outputId": "d1a53c6d-a855-465c-8982-d49e9c7220dc"
      },
      "source": [
        "b.flatten(order=\"F\")"
      ],
      "execution_count": null,
      "outputs": [
        {
          "output_type": "execute_result",
          "data": {
            "text/plain": [
              "array([0, 4, 1, 5, 2, 6, 3, 7])"
            ]
          },
          "metadata": {
            "tags": []
          },
          "execution_count": 5
        }
      ]
    },
    {
      "cell_type": "code",
      "metadata": {
        "colab": {
          "base_uri": "https://localhost:8080/"
        },
        "id": "0dnVlbv4ODXd",
        "outputId": "b1568cbf-8b59-4946-f992-e6b6ab8f27d1"
      },
      "source": [
        "a = np.arange(12).reshape(4,3)\n",
        "print(a)"
      ],
      "execution_count": null,
      "outputs": [
        {
          "output_type": "stream",
          "text": [
            "[[ 0  1  2]\n",
            " [ 3  4  5]\n",
            " [ 6  7  8]\n",
            " [ 9 10 11]]\n"
          ],
          "name": "stdout"
        }
      ]
    },
    {
      "cell_type": "code",
      "metadata": {
        "colab": {
          "base_uri": "https://localhost:8080/"
        },
        "id": "rteGkfgiO40C",
        "outputId": "50c38a5f-8e3a-4c8c-f0a6-c6cda4d0022d"
      },
      "source": [
        "print(np.transpose(a))"
      ],
      "execution_count": null,
      "outputs": [
        {
          "output_type": "stream",
          "text": [
            "[[ 0  3  6  9]\n",
            " [ 1  4  7 10]\n",
            " [ 2  5  8 11]]\n"
          ],
          "name": "stdout"
        }
      ]
    },
    {
      "cell_type": "code",
      "metadata": {
        "colab": {
          "base_uri": "https://localhost:8080/"
        },
        "id": "Qx4SlQ-VO958",
        "outputId": "10c155a9-65a0-430c-8b48-2b13229e79ed"
      },
      "source": [
        "b = np.arange(8).reshape(2,4)\n",
        "print(b)"
      ],
      "execution_count": null,
      "outputs": [
        {
          "output_type": "stream",
          "text": [
            "[[0 1 2 3]\n",
            " [4 5 6 7]]\n"
          ],
          "name": "stdout"
        }
      ]
    },
    {
      "cell_type": "code",
      "metadata": {
        "id": "maG3058bPOKk"
      },
      "source": [
        "c = b.reshape(2,2,2)"
      ],
      "execution_count": null,
      "outputs": []
    },
    {
      "cell_type": "code",
      "metadata": {
        "colab": {
          "base_uri": "https://localhost:8080/"
        },
        "id": "d2tCAFnKPZS3",
        "outputId": "ffe6a4a5-771e-4cee-80a3-c33128fea826"
      },
      "source": [
        "np.rollaxis(c,1,2)"
      ],
      "execution_count": null,
      "outputs": [
        {
          "output_type": "execute_result",
          "data": {
            "text/plain": [
              "array([[[0, 1],\n",
              "        [2, 3]],\n",
              "\n",
              "       [[4, 5],\n",
              "        [6, 7]]])"
            ]
          },
          "metadata": {
            "tags": []
          },
          "execution_count": 10
        }
      ]
    },
    {
      "cell_type": "code",
      "metadata": {
        "colab": {
          "base_uri": "https://localhost:8080/"
        },
        "id": "5Csr9muTPi5S",
        "outputId": "318e0f1b-b7ec-402d-a51c-0b462888f318"
      },
      "source": [
        "np.swapaxes(c,1,2)"
      ],
      "execution_count": null,
      "outputs": [
        {
          "output_type": "execute_result",
          "data": {
            "text/plain": [
              "array([[[0, 2],\n",
              "        [1, 3]],\n",
              "\n",
              "       [[4, 6],\n",
              "        [5, 7]]])"
            ]
          },
          "metadata": {
            "tags": []
          },
          "execution_count": 11
        }
      ]
    },
    {
      "cell_type": "markdown",
      "metadata": {
        "id": "GZaPsgPTQPL8"
      },
      "source": [
        "## **Arithmetic Operations**"
      ]
    },
    {
      "cell_type": "code",
      "metadata": {
        "colab": {
          "base_uri": "https://localhost:8080/"
        },
        "id": "M6e0h5qZQSQk",
        "outputId": "34b4df20-7ef5-438f-b118-9a1180379cbd"
      },
      "source": [
        "a = np.arange(9).reshape(3,3)\n",
        "print(a)"
      ],
      "execution_count": null,
      "outputs": [
        {
          "output_type": "stream",
          "text": [
            "[[0 1 2]\n",
            " [3 4 5]\n",
            " [6 7 8]]\n"
          ],
          "name": "stdout"
        }
      ]
    },
    {
      "cell_type": "code",
      "metadata": {
        "colab": {
          "base_uri": "https://localhost:8080/"
        },
        "id": "moacE7gOT1p6",
        "outputId": "18ad8d96-20b9-4142-b6d1-843b551aa0e0"
      },
      "source": [
        "b = np.array([10,10,10])\n",
        "print(b)"
      ],
      "execution_count": null,
      "outputs": [
        {
          "output_type": "stream",
          "text": [
            "[10 10 10]\n"
          ],
          "name": "stdout"
        }
      ]
    },
    {
      "cell_type": "code",
      "metadata": {
        "colab": {
          "base_uri": "https://localhost:8080/"
        },
        "id": "RzCJJ5jXUCVG",
        "outputId": "253f814c-7a3f-49f1-9e96-8b5d9f1efb90"
      },
      "source": [
        "print(np.add(a,b))"
      ],
      "execution_count": null,
      "outputs": [
        {
          "output_type": "stream",
          "text": [
            "[[10 11 12]\n",
            " [13 14 15]\n",
            " [16 17 18]]\n"
          ],
          "name": "stdout"
        }
      ]
    },
    {
      "cell_type": "code",
      "metadata": {
        "colab": {
          "base_uri": "https://localhost:8080/"
        },
        "id": "sZuu6u4RUMAy",
        "outputId": "4553dca1-7d5c-4c3f-f050-a83bcb98addd"
      },
      "source": [
        "print(np.subtract(a,b))"
      ],
      "execution_count": null,
      "outputs": [
        {
          "output_type": "stream",
          "text": [
            "[[-10  -9  -8]\n",
            " [ -7  -6  -5]\n",
            " [ -4  -3  -2]]\n"
          ],
          "name": "stdout"
        }
      ]
    },
    {
      "cell_type": "code",
      "metadata": {
        "colab": {
          "base_uri": "https://localhost:8080/"
        },
        "id": "lInvlFg8VGKr",
        "outputId": "04651a1c-16fd-45a3-ca9e-d3586edf96fb"
      },
      "source": [
        "print(np.multiply(a,b))"
      ],
      "execution_count": null,
      "outputs": [
        {
          "output_type": "stream",
          "text": [
            "[[ 0 10 20]\n",
            " [30 40 50]\n",
            " [60 70 80]]\n"
          ],
          "name": "stdout"
        }
      ]
    },
    {
      "cell_type": "code",
      "metadata": {
        "colab": {
          "base_uri": "https://localhost:8080/"
        },
        "id": "CxHWmzvAVQnT",
        "outputId": "df555bc5-cc0f-4075-c739-820e06eecb74"
      },
      "source": [
        "print(np.divide(a,b))"
      ],
      "execution_count": null,
      "outputs": [
        {
          "output_type": "stream",
          "text": [
            "[[0.  0.1 0.2]\n",
            " [0.3 0.4 0.5]\n",
            " [0.6 0.7 0.8]]\n"
          ],
          "name": "stdout"
        }
      ]
    },
    {
      "cell_type": "markdown",
      "metadata": {
        "id": "4X__i8JdQ-rM"
      },
      "source": [
        "# Slicing"
      ]
    },
    {
      "cell_type": "code",
      "metadata": {
        "id": "VvVXJ72yVXoE",
        "colab": {
          "base_uri": "https://localhost:8080/"
        },
        "outputId": "47439969-d1ec-4592-fcde-3832235e6f92"
      },
      "source": [
        "a = np.arange(20)\n",
        "a"
      ],
      "execution_count": null,
      "outputs": [
        {
          "output_type": "execute_result",
          "data": {
            "text/plain": [
              "array([ 0,  1,  2,  3,  4,  5,  6,  7,  8,  9, 10, 11, 12, 13, 14, 15, 16,\n",
              "       17, 18, 19])"
            ]
          },
          "metadata": {
            "tags": []
          },
          "execution_count": 18
        }
      ]
    },
    {
      "cell_type": "code",
      "metadata": {
        "colab": {
          "base_uri": "https://localhost:8080/"
        },
        "id": "LojyV8EhRDFg",
        "outputId": "271c4ea8-996b-4405-b4cb-ade56ca5eff5"
      },
      "source": [
        "a[4:]"
      ],
      "execution_count": null,
      "outputs": [
        {
          "output_type": "execute_result",
          "data": {
            "text/plain": [
              "array([ 4,  5,  6,  7,  8,  9, 10, 11, 12, 13, 14, 15, 16, 17, 18, 19])"
            ]
          },
          "metadata": {
            "tags": []
          },
          "execution_count": 19
        }
      ]
    },
    {
      "cell_type": "code",
      "metadata": {
        "colab": {
          "base_uri": "https://localhost:8080/"
        },
        "id": "X8rupBywRXdT",
        "outputId": "869d489a-64f8-4fe5-a9ed-172783bb63ff"
      },
      "source": [
        "a[:4]"
      ],
      "execution_count": null,
      "outputs": [
        {
          "output_type": "execute_result",
          "data": {
            "text/plain": [
              "array([0, 1, 2, 3])"
            ]
          },
          "metadata": {
            "tags": []
          },
          "execution_count": 20
        }
      ]
    },
    {
      "cell_type": "code",
      "metadata": {
        "colab": {
          "base_uri": "https://localhost:8080/"
        },
        "id": "ulK4xwWGRaeK",
        "outputId": "975fbfc9-9ed1-447f-937e-dfc11233252e"
      },
      "source": [
        "s = slice(2,9,2)\n",
        "print(s)"
      ],
      "execution_count": null,
      "outputs": [
        {
          "output_type": "stream",
          "text": [
            "slice(2, 9, 2)\n"
          ],
          "name": "stdout"
        }
      ]
    },
    {
      "cell_type": "markdown",
      "metadata": {
        "id": "R9uW7hO3Rw1x"
      },
      "source": [
        "# Inserting over array"
      ]
    },
    {
      "cell_type": "code",
      "metadata": {
        "colab": {
          "base_uri": "https://localhost:8080/"
        },
        "id": "ay7nGZDFRefd",
        "outputId": "13317d0a-a0b5-403d-fb4f-7e8ee680f27f"
      },
      "source": [
        "a = np.arange(0,45,5)\n",
        "a = a.reshape(3,3)\n",
        "a"
      ],
      "execution_count": null,
      "outputs": [
        {
          "output_type": "execute_result",
          "data": {
            "text/plain": [
              "array([[ 0,  5, 10],\n",
              "       [15, 20, 25],\n",
              "       [30, 35, 40]])"
            ]
          },
          "metadata": {
            "tags": []
          },
          "execution_count": 28
        }
      ]
    },
    {
      "cell_type": "code",
      "metadata": {
        "colab": {
          "base_uri": "https://localhost:8080/"
        },
        "id": "OucYZPD7R4Ms",
        "outputId": "40285f8d-5281-47b8-fed9-3ed2a8fcdb31"
      },
      "source": [
        "for i in np.nditer(a):\n",
        "  print(i)"
      ],
      "execution_count": null,
      "outputs": [
        {
          "output_type": "stream",
          "text": [
            "0\n",
            "5\n",
            "10\n",
            "15\n",
            "20\n",
            "25\n",
            "30\n",
            "35\n",
            "40\n"
          ],
          "name": "stdout"
        }
      ]
    },
    {
      "cell_type": "markdown",
      "metadata": {
        "id": "9UcqenMlSJ7_"
      },
      "source": [
        "# Iternation order - 'C and F style'"
      ]
    },
    {
      "cell_type": "code",
      "metadata": {
        "colab": {
          "base_uri": "https://localhost:8080/"
        },
        "id": "9uXi1LdPSGSq",
        "outputId": "452546e5-c2ba-4ee9-f151-83440a5b875b"
      },
      "source": [
        "print(a)\n",
        "for i in np.nditer(a,order=\"C\"):\n",
        "  print(i)\n",
        "for j in np.nditer(a,order=\"F\"):\n",
        "  print(j)"
      ],
      "execution_count": null,
      "outputs": [
        {
          "output_type": "stream",
          "text": [
            "[[ 0  5 10]\n",
            " [15 20 25]\n",
            " [30 35 40]]\n",
            "0\n",
            "5\n",
            "10\n",
            "15\n",
            "20\n",
            "25\n",
            "30\n",
            "35\n",
            "40\n",
            "0\n",
            "15\n",
            "30\n",
            "5\n",
            "20\n",
            "35\n",
            "10\n",
            "25\n",
            "40\n"
          ],
          "name": "stdout"
        }
      ]
    },
    {
      "cell_type": "markdown",
      "metadata": {
        "id": "SaePfRrISpbE"
      },
      "source": [
        "# Joining arrays"
      ]
    },
    {
      "cell_type": "code",
      "metadata": {
        "colab": {
          "base_uri": "https://localhost:8080/"
        },
        "id": "w-NGL1pwSePq",
        "outputId": "cc1bb9f0-a051-46b7-f4fb-a0108d93b12f"
      },
      "source": [
        "a = np.array([[1,2],[3,4]])\n",
        "print('first array')\n",
        "print(a)\n",
        "\n",
        "b = np.array([[5,6],[7,8]])\n",
        "print('second array')\n",
        "print(b)"
      ],
      "execution_count": null,
      "outputs": [
        {
          "output_type": "stream",
          "text": [
            "first array\n",
            "[[1 2]\n",
            " [3 4]]\n",
            "second array\n",
            "[[5 6]\n",
            " [7 8]]\n"
          ],
          "name": "stdout"
        }
      ]
    },
    {
      "cell_type": "code",
      "metadata": {
        "colab": {
          "base_uri": "https://localhost:8080/"
        },
        "id": "8yMBEyC-S3DS",
        "outputId": "9aa65e0f-6f26-4108-fc19-104a47a264ae"
      },
      "source": [
        "print('Joining two arrays along axis 0:')\n",
        "print(np.concatenate((a,b)) ) #this was along the axis 0"
      ],
      "execution_count": null,
      "outputs": [
        {
          "output_type": "stream",
          "text": [
            "Joining two arrays along axis 0:\n",
            "[[1 2]\n",
            " [3 4]\n",
            " [5 6]\n",
            " [7 8]]\n"
          ],
          "name": "stdout"
        }
      ]
    },
    {
      "cell_type": "code",
      "metadata": {
        "colab": {
          "base_uri": "https://localhost:8080/"
        },
        "id": "zB6rBa8kTCXy",
        "outputId": "449c2292-f432-4cf3-cf66-5a00bb8f446a"
      },
      "source": [
        "print('Joining two arrays along axis 1')\n",
        "print(np.concatenate((a,b), axis=1))\n",
        "#remember to keep both the arrays with the same shape i.e rows and cols"
      ],
      "execution_count": null,
      "outputs": [
        {
          "output_type": "stream",
          "text": [
            "Joining two arrays along axis 1\n",
            "[[1 2 5 6]\n",
            " [3 4 7 8]]\n"
          ],
          "name": "stdout"
        }
      ]
    },
    {
      "cell_type": "markdown",
      "metadata": {
        "id": "qQnnlMcKVrOV"
      },
      "source": [
        "# Splitting array"
      ]
    },
    {
      "cell_type": "code",
      "metadata": {
        "colab": {
          "base_uri": "https://localhost:8080/"
        },
        "id": "RQCvHMGLThYR",
        "outputId": "430cc0ef-6e28-446f-ceb7-80c6264f2913"
      },
      "source": [
        "a = np.arange(9)\n",
        "print(a)\n",
        "np.split(a,3)"
      ],
      "execution_count": null,
      "outputs": [
        {
          "output_type": "stream",
          "text": [
            "[0 1 2 3 4 5 6 7 8]\n"
          ],
          "name": "stdout"
        },
        {
          "output_type": "execute_result",
          "data": {
            "text/plain": [
              "[array([0, 1, 2]), array([3, 4, 5]), array([6, 7, 8])]"
            ]
          },
          "metadata": {
            "tags": []
          },
          "execution_count": 40
        }
      ]
    },
    {
      "cell_type": "code",
      "metadata": {
        "colab": {
          "base_uri": "https://localhost:8080/"
        },
        "id": "s4LjHS6KVxlM",
        "outputId": "af23957a-d412-42e3-e48e-3375c122235f"
      },
      "source": [
        "np.split(a,[4,7])#the first split is going to be at 4 and the next split is going to be at 7"
      ],
      "execution_count": null,
      "outputs": [
        {
          "output_type": "execute_result",
          "data": {
            "text/plain": [
              "[array([0, 1, 2, 3]), array([4, 5, 6]), array([7, 8])]"
            ]
          },
          "metadata": {
            "tags": []
          },
          "execution_count": 43
        }
      ]
    },
    {
      "cell_type": "code",
      "metadata": {
        "colab": {
          "base_uri": "https://localhost:8080/"
        },
        "id": "3v3yK2aOV6fh",
        "outputId": "183365a8-079d-4bd5-bfcb-ec378b7dffb1"
      },
      "source": [
        "np.split(a,[4,5])#the first split is going to be at 4 and the next split is going to be at 5"
      ],
      "execution_count": null,
      "outputs": [
        {
          "output_type": "execute_result",
          "data": {
            "text/plain": [
              "[array([0, 1, 2, 3]), array([4]), array([5, 6, 7, 8])]"
            ]
          },
          "metadata": {
            "tags": []
          },
          "execution_count": 44
        }
      ]
    },
    {
      "cell_type": "markdown",
      "metadata": {
        "id": "td2CO5tUWY0c"
      },
      "source": [
        "# Resizing the array"
      ]
    },
    {
      "cell_type": "code",
      "metadata": {
        "colab": {
          "base_uri": "https://localhost:8080/"
        },
        "id": "o7M-pGCQWGpo",
        "outputId": "d2f38521-bb95-49ca-c35e-9a95dcdb75dc"
      },
      "source": [
        "a = np.array([[1,2,3],[4,5,6]])\n",
        "print(a)\n",
        "print(a.shape)\n",
        "b = np.resize(a,(3,3))\n",
        "print(b)\n",
        "print(b.shape)"
      ],
      "execution_count": null,
      "outputs": [
        {
          "output_type": "stream",
          "text": [
            "[[1 2 3]\n",
            " [4 5 6]]\n",
            "(2, 3)\n",
            "[[1 2 3]\n",
            " [4 5 6]\n",
            " [1 2 3]]\n",
            "(3, 3)\n"
          ],
          "name": "stdout"
        }
      ]
    },
    {
      "cell_type": "code",
      "metadata": {
        "id": "57pMn6ewWfga"
      },
      "source": [
        ""
      ],
      "execution_count": null,
      "outputs": []
    }
  ]
}