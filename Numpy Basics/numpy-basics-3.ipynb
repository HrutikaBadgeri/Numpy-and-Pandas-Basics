{
  "nbformat": 4,
  "nbformat_minor": 0,
  "metadata": {
    "colab": {
      "name": "numpy3.ipynb",
      "provenance": []
    },
    "kernelspec": {
      "name": "python3",
      "display_name": "Python 3"
    },
    "language_info": {
      "name": "python"
    }
  },
  "cells": [
    {
      "cell_type": "markdown",
      "metadata": {
        "id": "NCQOaM8SXgej"
      },
      "source": [
        "# Histograms"
      ]
    },
    {
      "cell_type": "code",
      "metadata": {
        "id": "okPQPod-XiZT"
      },
      "source": [
        "from matplotlib import pyplot as plt"
      ],
      "execution_count": null,
      "outputs": []
    },
    {
      "cell_type": "code",
      "metadata": {
        "colab": {
          "base_uri": "https://localhost:8080/",
          "height": 281
        },
        "id": "d-mEp7vZXlBB",
        "outputId": "94b73cef-e98f-49bf-932d-c26fde1e0158"
      },
      "source": [
        "a = np.array([20,87,4,40,53,74,56,51,11,20,40,15,79,25,27])\n",
        "plt.hist(a, bins=[0,20,40,60,80,100])\n",
        "plt.title('histogram')\n",
        "plt.show()"
      ],
      "execution_count": null,
      "outputs": [
        {
          "output_type": "display_data",
          "data": {
            "image/png": "[encoded data removed]",
            "text/plain": [
              "<Figure size 432x288 with 1 Axes>"
            ]
          },
          "metadata": {
            "tags": [],
            "needs_background": "light"
          }
        }
      ]
    },
    {
      "cell_type": "code",
      "metadata": {
        "colab": {
          "base_uri": "https://localhost:8080/",
          "height": 281
        },
        "id": "oRdrI1QbX5fV",
        "outputId": "f05fd95f-68be-42a7-c92d-d63e72880421"
      },
      "source": [
        "plt.hist(a, bins=[0,10,20,30,40,50,60,70,80,90,100])\n",
        "plt.title('histogram')\n",
        "plt.show()"
      ],
      "execution_count": null,
      "outputs": [
        {
          "output_type": "display_data",
          "data": {
            "image/png": "[encoded data removed]",
            "text/plain": [
              "<Figure size 432x288 with 1 Axes>"
            ]
          },
          "metadata": {
            "tags": [],
            "needs_background": "light"
          }
        }
      ]
    },
    {
      "cell_type": "code",
      "metadata": {
        "id": "1HnpjnUdYdX6"
      },
      "source": [
        "#line space function\n",
        "import numpy as np\n",
        "# a = np.linespace(1,3,10)\n",
        "# print(a)"
      ],
      "execution_count": null,
      "outputs": []
    },
    {
      "cell_type": "code",
      "metadata": {
        "colab": {
          "base_uri": "https://localhost:8080/"
        },
        "id": "yMJXcM08Yw73",
        "outputId": "1e6ee0cc-39f7-4898-96b8-39ba0b5b365f"
      },
      "source": [
        "a = np.array([(1,2,3),(4,5,6)])\n",
        "print(a.sum(axis=1))\n",
        "print(np.sqrt(a))\n",
        "print(np.std(a))\n",
        "print(np.ravel(a))"
      ],
      "execution_count": null,
      "outputs": [
        {
          "output_type": "stream",
          "text": [
            "[ 6 15]\n",
            "[[1.         1.41421356 1.73205081]\n",
            " [2.         2.23606798 2.44948974]]\n",
            "1.707825127659933\n",
            "[1 2 3 4 5 6]\n"
          ],
          "name": "stdout"
        }
      ]
    },
    {
      "cell_type": "code",
      "metadata": {
        "colab": {
          "base_uri": "https://localhost:8080/"
        },
        "id": "u5Hl3vHyZKM0",
        "outputId": "b66c25c6-9f74-4fa6-cfe6-c8ed652d3c95"
      },
      "source": [
        "b = np.array([1,2,3])\n",
        "print(np.log10(b))"
      ],
      "execution_count": null,
      "outputs": [
        {
          "output_type": "stream",
          "text": [
            "[0.         0.30103    0.47712125]\n"
          ],
          "name": "stdout"
        }
      ]
    },
    {
      "cell_type": "code",
      "metadata": {
        "colab": {
          "base_uri": "https://localhost:8080/",
          "height": 634
        },
        "id": "aDWTparSZ00m",
        "outputId": "8d4aa70b-0875-4884-bed0-d43e845df727"
      },
      "source": [
        "import numpy as np \n",
        "import matplotlib.pyplot as plt\n",
        "x = np.arange(0,3*np.pi,0.1)\n",
        "y = np.sin(x)\n",
        "print(x)\n",
        "print(y)\n",
        "plt.plot(x,y)\n",
        "plt.show()"
      ],
      "execution_count": null,
      "outputs": [
        {
          "output_type": "stream",
          "text": [
            "[0.  0.1 0.2 0.3 0.4 0.5 0.6 0.7 0.8 0.9 1.  1.1 1.2 1.3 1.4 1.5 1.6 1.7\n",
            " 1.8 1.9 2.  2.1 2.2 2.3 2.4 2.5 2.6 2.7 2.8 2.9 3.  3.1 3.2 3.3 3.4 3.5\n",
            " 3.6 3.7 3.8 3.9 4.  4.1 4.2 4.3 4.4 4.5 4.6 4.7 4.8 4.9 5.  5.1 5.2 5.3\n",
            " 5.4 5.5 5.6 5.7 5.8 5.9 6.  6.1 6.2 6.3 6.4 6.5 6.6 6.7 6.8 6.9 7.  7.1\n",
            " 7.2 7.3 7.4 7.5 7.6 7.7 7.8 7.9 8.  8.1 8.2 8.3 8.4 8.5 8.6 8.7 8.8 8.9\n",
            " 9.  9.1 9.2 9.3 9.4]\n",
            "[ 0.          0.09983342  0.19866933  0.29552021  0.38941834  0.47942554\n",
            "  0.56464247  0.64421769  0.71735609  0.78332691  0.84147098  0.89120736\n",
            "  0.93203909  0.96355819  0.98544973  0.99749499  0.9995736   0.99166481\n",
            "  0.97384763  0.94630009  0.90929743  0.86320937  0.8084964   0.74570521\n",
            "  0.67546318  0.59847214  0.51550137  0.42737988  0.33498815  0.23924933\n",
            "  0.14112001  0.04158066 -0.05837414 -0.15774569 -0.2555411  -0.35078323\n",
            " -0.44252044 -0.52983614 -0.61185789 -0.68776616 -0.7568025  -0.81827711\n",
            " -0.87157577 -0.91616594 -0.95160207 -0.97753012 -0.993691   -0.99992326\n",
            " -0.99616461 -0.98245261 -0.95892427 -0.92581468 -0.88345466 -0.83226744\n",
            " -0.77276449 -0.70554033 -0.63126664 -0.55068554 -0.46460218 -0.37387666\n",
            " -0.2794155  -0.1821625  -0.0830894   0.0168139   0.1165492   0.21511999\n",
            "  0.31154136  0.40484992  0.49411335  0.57843976  0.6569866   0.72896904\n",
            "  0.79366786  0.85043662  0.8987081   0.93799998  0.96791967  0.98816823\n",
            "  0.99854335  0.99894134  0.98935825  0.96988981  0.94073056  0.90217183\n",
            "  0.85459891  0.79848711  0.7343971   0.66296923  0.58491719  0.50102086\n",
            "  0.41211849  0.31909836  0.22288991  0.12445442  0.02477543]\n"
          ],
          "name": "stdout"
        },
        {
          "output_type": "display_data",
          "data": {
            "image/png": "[encoded data removed]",
            "text/plain": [
              "<Figure size 432x288 with 1 Axes>"
            ]
          },
          "metadata": {
            "tags": [],
            "needs_background": "light"
          }
        }
      ]
    },
    {
      "cell_type": "code",
      "metadata": {
        "colab": {
          "base_uri": "https://localhost:8080/"
        },
        "id": "qKsnIAFqaNi1",
        "outputId": "0152bfa9-b8ff-4b6f-a2f0-566bb39645c4"
      },
      "source": [
        "z = np.zeros((6,6),dtype=int)\n",
        "print(z)\n",
        "print(\"\\n\")\n",
        "z[1::2,::2] = 1\n",
        "print(z)\n",
        "print(\"\\n\")\n",
        "z[::2,1::2] = 1\n",
        "print(z)"
      ],
      "execution_count": null,
      "outputs": [
        {
          "output_type": "stream",
          "text": [
            "[[0 0 0 0 0 0]\n",
            " [0 0 0 0 0 0]\n",
            " [0 0 0 0 0 0]\n",
            " [0 0 0 0 0 0]\n",
            " [0 0 0 0 0 0]\n",
            " [0 0 0 0 0 0]]\n",
            "\n",
            "\n",
            "[[0 0 0 0 0 0]\n",
            " [1 0 1 0 1 0]\n",
            " [0 0 0 0 0 0]\n",
            " [1 0 1 0 1 0]\n",
            " [0 0 0 0 0 0]\n",
            " [1 0 1 0 1 0]]\n",
            "\n",
            "\n",
            "[[0 1 0 1 0 1]\n",
            " [1 0 1 0 1 0]\n",
            " [0 1 0 1 0 1]\n",
            " [1 0 1 0 1 0]\n",
            " [0 1 0 1 0 1]\n",
            " [1 0 1 0 1 0]]\n"
          ],
          "name": "stdout"
        }
      ]
    },
    {
      "cell_type": "code",
      "metadata": {
        "colab": {
          "base_uri": "https://localhost:8080/"
        },
        "id": "e4PcuJfDaxzP",
        "outputId": "756dd491-2ac0-4339-ed00-deaab5240f92"
      },
      "source": [
        "z = np.random.rand(10,10)\n",
        "print(z)\n",
        "z[np.random.randint(10, size=5), np.random.randint(10,size=5)] = np.nan\n",
        "print(\"\\n\")\n",
        "print(z)"
      ],
      "execution_count": null,
      "outputs": [
        {
          "output_type": "stream",
          "text": [
            "[[0.05638197 0.90756764 0.16252837 0.21735612 0.02779095 0.37488219\n",
            "  0.04888961 0.83922278 0.59006668 0.2470821 ]\n",
            " [0.82908648 0.43101486 0.35254418 0.84286314 0.43480894 0.27037374\n",
            "  0.07822753 0.19461016 0.55461994 0.21004614]\n",
            " [0.75971846 0.62191262 0.74401465 0.06746719 0.7128589  0.59599055\n",
            "  0.67153022 0.29572465 0.5534294  0.68391305]\n",
            " [0.71249479 0.95860203 0.2431491  0.2322059  0.66300334 0.3650264\n",
            "  0.30080579 0.34028184 0.73433858 0.12240372]\n",
            " [0.61095005 0.29833694 0.45362565 0.06562802 0.16085856 0.0092837\n",
            "  0.846347   0.26972276 0.7433717  0.33499605]\n",
            " [0.38175691 0.30643203 0.51854414 0.17803856 0.08269653 0.00568095\n",
            "  0.54186833 0.95566845 0.22608845 0.63825768]\n",
            " [0.53207603 0.7174854  0.11648273 0.03480573 0.43088902 0.69851379\n",
            "  0.21985586 0.03745594 0.74377557 0.41001963]\n",
            " [0.81832329 0.95296391 0.03957473 0.73859588 0.99682483 0.82520799\n",
            "  0.35656169 0.33652341 0.81735401 0.38923136]\n",
            " [0.18924049 0.2328717  0.42172609 0.37618984 0.37800966 0.30182583\n",
            "  0.43269035 0.4417137  0.58112793 0.60883217]\n",
            " [0.84879017 0.05705922 0.38991395 0.52326264 0.2411149  0.48743093\n",
            "  0.4615483  0.2768618  0.9694691  0.69542548]]\n",
            "\n",
            "\n",
            "[[0.05638197 0.90756764 0.16252837 0.21735612 0.02779095 0.37488219\n",
            "  0.04888961 0.83922278 0.59006668        nan]\n",
            " [0.82908648 0.43101486 0.35254418 0.84286314 0.43480894 0.27037374\n",
            "  0.07822753 0.19461016 0.55461994 0.21004614]\n",
            " [0.75971846 0.62191262 0.74401465 0.06746719 0.7128589  0.59599055\n",
            "  0.67153022 0.29572465 0.5534294  0.68391305]\n",
            " [0.71249479        nan 0.2431491  0.2322059  0.66300334 0.3650264\n",
            "  0.30080579 0.34028184 0.73433858 0.12240372]\n",
            " [0.61095005        nan 0.45362565 0.06562802 0.16085856 0.0092837\n",
            "  0.846347   0.26972276 0.7433717  0.33499605]\n",
            " [0.38175691 0.30643203 0.51854414 0.17803856 0.08269653 0.00568095\n",
            "  0.54186833 0.95566845 0.22608845 0.63825768]\n",
            " [0.53207603 0.7174854  0.11648273 0.03480573 0.43088902 0.69851379\n",
            "  0.21985586 0.03745594        nan        nan]\n",
            " [0.81832329 0.95296391 0.03957473 0.73859588 0.99682483 0.82520799\n",
            "  0.35656169 0.33652341 0.81735401 0.38923136]\n",
            " [0.18924049 0.2328717  0.42172609 0.37618984 0.37800966 0.30182583\n",
            "  0.43269035 0.4417137  0.58112793 0.60883217]\n",
            " [0.84879017 0.05705922 0.38991395 0.52326264 0.2411149  0.48743093\n",
            "  0.4615483  0.2768618  0.9694691  0.69542548]]\n"
          ],
          "name": "stdout"
        }
      ]
    },
    {
      "cell_type": "code",
      "metadata": {
        "colab": {
          "base_uri": "https://localhost:8080/"
        },
        "id": "GHNMrBF0dyZA",
        "outputId": "a3e49def-20a3-45c8-cbc0-54fa14c541bc"
      },
      "source": [
        "print(\"Total number of missing values: \\n\", np.isnan(z).sum())\n",
        "print(\"Indexes of missing values: \\n\", np.argwhere(np.isnan(z)))\n",
        "inds = np.where(np.isnan(z))\n",
        "z[inds]=0\n",
        "print(z)"
      ],
      "execution_count": null,
      "outputs": [
        {
          "output_type": "stream",
          "text": [
            "Total number of missing values: \n",
            " 5\n",
            "Indexes of missing values: \n",
            " [[0 9]\n",
            " [3 1]\n",
            " [4 1]\n",
            " [6 8]\n",
            " [6 9]]\n",
            "[[0.05638197 0.90756764 0.16252837 0.21735612 0.02779095 0.37488219\n",
            "  0.04888961 0.83922278 0.59006668 0.        ]\n",
            " [0.82908648 0.43101486 0.35254418 0.84286314 0.43480894 0.27037374\n",
            "  0.07822753 0.19461016 0.55461994 0.21004614]\n",
            " [0.75971846 0.62191262 0.74401465 0.06746719 0.7128589  0.59599055\n",
            "  0.67153022 0.29572465 0.5534294  0.68391305]\n",
            " [0.71249479 0.         0.2431491  0.2322059  0.66300334 0.3650264\n",
            "  0.30080579 0.34028184 0.73433858 0.12240372]\n",
            " [0.61095005 0.         0.45362565 0.06562802 0.16085856 0.0092837\n",
            "  0.846347   0.26972276 0.7433717  0.33499605]\n",
            " [0.38175691 0.30643203 0.51854414 0.17803856 0.08269653 0.00568095\n",
            "  0.54186833 0.95566845 0.22608845 0.63825768]\n",
            " [0.53207603 0.7174854  0.11648273 0.03480573 0.43088902 0.69851379\n",
            "  0.21985586 0.03745594 0.         0.        ]\n",
            " [0.81832329 0.95296391 0.03957473 0.73859588 0.99682483 0.82520799\n",
            "  0.35656169 0.33652341 0.81735401 0.38923136]\n",
            " [0.18924049 0.2328717  0.42172609 0.37618984 0.37800966 0.30182583\n",
            "  0.43269035 0.4417137  0.58112793 0.60883217]\n",
            " [0.84879017 0.05705922 0.38991395 0.52326264 0.2411149  0.48743093\n",
            "  0.4615483  0.2768618  0.9694691  0.69542548]]\n"
          ],
          "name": "stdout"
        }
      ]
    },
    {
      "cell_type": "code",
      "metadata": {
        "id": "KDVHV5M6es_0"
      },
      "source": [
        ""
      ],
      "execution_count": null,
      "outputs": []
    }
  ]
}